{
  "cells": [
    {
      "cell_type": "markdown",
      "metadata": {
        "id": "view-in-github",
        "colab_type": "text"
      },
      "source": [
        "<a href=\"https://colab.research.google.com/github/igelat/Takehome/blob/main/Takehome.ipynb\" target=\"_parent\"><img src=\"https://colab.research.google.com/assets/colab-badge.svg\" alt=\"Open In Colab\"/></a>"
      ]
    },
    {
      "cell_type": "code",
      "execution_count": null,
      "metadata": {
        "colab": {
          "base_uri": "https://localhost:8080/"
        },
        "id": "dnGHhYdWojxd",
        "outputId": "89b82f21-4ba2-4848-ffac-75059a95bce4"
      },
      "outputs": [
        {
          "data": {
            "text/plain": [
              "int"
            ]
          },
          "execution_count": 32,
          "metadata": {},
          "output_type": "execute_result"
        }
      ],
      "source": [
        "x = 2\n",
        "type(x)"
      ]
    },
    {
      "cell_type": "code",
      "execution_count": null,
      "metadata": {
        "colab": {
          "base_uri": "https://localhost:8080/"
        },
        "id": "nrTiKJf5pTJN",
        "outputId": "def3d7c7-e3aa-49df-e4da-a1ec142b43b7"
      },
      "outputs": [
        {
          "data": {
            "text/plain": [
              "str"
            ]
          },
          "execution_count": 7,
          "metadata": {},
          "output_type": "execute_result"
        }
      ],
      "source": [
        "y = \"Julius\"\n",
        "type(y)"
      ]
    },
    {
      "cell_type": "code",
      "execution_count": null,
      "metadata": {
        "colab": {
          "base_uri": "https://localhost:8080/"
        },
        "id": "j2kgidMisBy6",
        "outputId": "80e56318-16ae-4a5c-cc0f-a59746de7c80"
      },
      "outputs": [
        {
          "name": "stdout",
          "output_type": "stream",
          "text": [
            "hello world\n"
          ]
        }
      ],
      "source": [
        "\n",
        "# print statement\n",
        "greeting = \"hello world\"\n",
        "print(greeting)"
      ]
    },
    {
      "cell_type": "code",
      "execution_count": null,
      "metadata": {
        "colab": {
          "base_uri": "https://localhost:8080/"
        },
        "id": "1Ro5jXr3sjTL",
        "outputId": "3ce346a7-4614-4178-f905-a5682b18e15e"
      },
      "outputs": [
        {
          "name": "stdout",
          "output_type": "stream",
          "text": [
            "hello world wide_web\n"
          ]
        }
      ],
      "source": [
        "# Variable concatenation\n",
        "str_1 =\"hello\"\n",
        "str_2 =\"world\"\n",
        "str_3 =\"wide_web\"\n",
        "name =str_1+\" \" +str_2+\" \"+ str_3\n",
        "print(name)"
      ]
    },
    {
      "cell_type": "code",
      "execution_count": null,
      "metadata": {
        "colab": {
          "base_uri": "https://localhost:8080/"
        },
        "id": "0i3476GDtc0j",
        "outputId": "f14c82a7-1841-4fa6-fa2a-54aa1e39d2e9"
      },
      "outputs": [
        {
          "name": "stdout",
          "output_type": "stream",
          "text": [
            "15\n"
          ]
        }
      ],
      "source": [
        "# numeric operators\n",
        "x=5\n",
        "y=3\n",
        "answer=x*y\n",
        "print(answer)"
      ]
    },
    {
      "cell_type": "code",
      "execution_count": null,
      "metadata": {
        "colab": {
          "base_uri": "https://localhost:8080/"
        },
        "id": "rqltFEs1uIkZ",
        "outputId": "aedd810b-eb35-4d9e-f5db-ba6c955809db"
      },
      "outputs": [
        {
          "name": "stdout",
          "output_type": "stream",
          "text": [
            "JuliusJuliusJuliusJuliusJulius\n"
          ]
        }
      ],
      "source": [
        "# string repetition\n",
        "name=\"Julius\"\n",
        "repeat=name*5\n",
        "print(repeat)"
      ]
    },
    {
      "cell_type": "code",
      "execution_count": null,
      "metadata": {
        "colab": {
          "base_uri": "https://localhost:8080/"
        },
        "id": "rBcs76cmyUUn",
        "outputId": "afd3217d-7a96-4f68-de7f-03ee23cc2f53"
      },
      "outputs": [
        {
          "name": "stdout",
          "output_type": "stream",
          "text": [
            "25 10\n"
          ]
        }
      ],
      "source": [
        "\n",
        "# swapping variables\n",
        "a = 10\n",
        "b =25\n",
        "a, b = b, a\n",
        "print(a, b)"
      ]
    },
    {
      "cell_type": "code",
      "execution_count": null,
      "metadata": {
        "colab": {
          "base_uri": "https://localhost:8080/"
        },
        "id": "kl85nHPl0M5E",
        "outputId": "d3acb501-7d50-46c0-bcfd-64cda74d04d7"
      },
      "outputs": [
        {
          "data": {
            "text/plain": [
              "11"
            ]
          },
          "execution_count": 18,
          "metadata": {},
          "output_type": "execute_result"
        }
      ],
      "source": [
        "# string length\n",
        "greeting =\"hello world\"\n",
        "len(greeting)"
      ]
    },
    {
      "cell_type": "code",
      "execution_count": null,
      "metadata": {
        "colab": {
          "base_uri": "https://localhost:8080/"
        },
        "id": "kfURx1jH7RPJ",
        "outputId": "2e1c8a9d-9ac6-4edf-ec35-af62cde249b4"
      },
      "outputs": [
        {
          "name": "stdout",
          "output_type": "stream",
          "text": [
            "am going to eat 12 slices\n"
          ]
        }
      ],
      "source": [
        "# type conversion\n",
        "num_cassava_slices =12\n",
        "eat = \"am going to eat\"+ \" \" + str(num_cassava_slices) + \" \"+ \"slices\"\n",
        "print(eat)"
      ]
    },
    {
      "cell_type": "code",
      "execution_count": null,
      "metadata": {
        "colab": {
          "background_save": true
        },
        "id": "EWPNZpV6A9Vu",
        "outputId": "52724423-8fb5-4e89-e3b7-afee315ed6ac"
      },
      "outputs": [
        {
          "name": "stdout",
          "output_type": "stream",
          "text": [
            "the leftover are 4 slices\n"
          ]
        }
      ],
      "source": [
        "# formatted string\n",
        "num_slices=12\n",
        "eaten_slices=8\n",
        "leftover = \"the leftover are\"+ \" \" +str(num_slices-eaten_slices)+\" \" +\"slices\"\n",
        "print(leftover)"
      ]
    }
  ],
  "metadata": {
    "colab": {
      "provenance": [],
      "authorship_tag": "ABX9TyOhNuVu5myuvlyhQaxVu1RL",
      "include_colab_link": true
    },
    "kernelspec": {
      "display_name": "Python 3",
      "name": "python3"
    },
    "language_info": {
      "name": "python"
    }
  },
  "nbformat": 4,
  "nbformat_minor": 0
}